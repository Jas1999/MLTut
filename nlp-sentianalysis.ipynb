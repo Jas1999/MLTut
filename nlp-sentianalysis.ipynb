{
 "cells": [
  {
   "cell_type": "code",
   "execution_count": 1,
   "id": "6acac29c",
   "metadata": {
    "_cell_guid": "b1076dfc-b9ad-4769-8c92-a6c4dae69d19",
    "_uuid": "8f2839f25d086af736a60e9eeb907d3b93b6e0e5",
    "execution": {
     "iopub.execute_input": "2021-09-05T05:36:42.961280Z",
     "iopub.status.busy": "2021-09-05T05:36:42.960680Z",
     "iopub.status.idle": "2021-09-05T05:36:49.317496Z",
     "shell.execute_reply": "2021-09-05T05:36:49.318431Z",
     "shell.execute_reply.started": "2021-09-05T05:31:56.232734Z"
    },
    "papermill": {
     "duration": 6.380047,
     "end_time": "2021-09-05T05:36:49.318806",
     "exception": false,
     "start_time": "2021-09-05T05:36:42.938759",
     "status": "completed"
    },
    "tags": []
   },
   "outputs": [
    {
     "name": "stdout",
     "output_type": "stream",
     "text": [
      "/kaggle/input/sentiment-analysis-for-financial-news/all-data.csv\n",
      "/kaggle/input/sentiment-analysis-for-financial-news/FinancialPhraseBank/Sentences_66Agree.txt\n",
      "/kaggle/input/sentiment-analysis-for-financial-news/FinancialPhraseBank/Sentences_AllAgree.txt\n",
      "/kaggle/input/sentiment-analysis-for-financial-news/FinancialPhraseBank/README.txt\n",
      "/kaggle/input/sentiment-analysis-for-financial-news/FinancialPhraseBank/License.txt\n",
      "/kaggle/input/sentiment-analysis-for-financial-news/FinancialPhraseBank/Sentences_75Agree.txt\n",
      "/kaggle/input/sentiment-analysis-for-financial-news/FinancialPhraseBank/Sentences_50Agree.txt\n"
     ]
    }
   ],
   "source": [
    "# This Python 3 environment comes with many helpful analytics libraries installed\n",
    "# It is defined by the kaggle/python Docker image: https://github.com/kaggle/docker-python\n",
    "# For example, here's several helpful packages to load\n",
    "\n",
    "import numpy as np # linear algebra\n",
    "import pandas as pd # data processing, CSV file I/O (e.g. pd.read_csv)\n",
    "\n",
    "from tensorflow.keras.preprocessing.text import Tokenizer\n",
    "from tensorflow.keras.preprocessing.sequence import pad_sequences\n",
    "from sklearn.model_selection import train_test_split\n",
    "\n",
    "import tensorflow as tf\n",
    "\n",
    "# Input data files are available in the read-only \"../input/\" directory\n",
    "# For example, running this (by clicking run or pressing Shift+Enter) will list all files under the input directory\n",
    "\n",
    "import os\n",
    "for dirname, _, filenames in os.walk('/kaggle/input'):\n",
    "    for filename in filenames:\n",
    "        print(os.path.join(dirname, filename))\n",
    "\n",
    "# You can write up to 20GB to the current directory (/kaggle/working/) that gets preserved as output when you create a version using \"Save & Run All\" \n",
    "# You can also write temporary files to /kaggle/temp/, but they won't be saved outside of the current session"
   ]
  },
  {
   "cell_type": "code",
   "execution_count": 2,
   "id": "e39510de",
   "metadata": {
    "execution": {
     "iopub.execute_input": "2021-09-05T05:36:49.346785Z",
     "iopub.status.busy": "2021-09-05T05:36:49.346127Z",
     "iopub.status.idle": "2021-09-05T05:36:49.404851Z",
     "shell.execute_reply": "2021-09-05T05:36:49.405331Z",
     "shell.execute_reply.started": "2021-09-05T05:31:56.246941Z"
    },
    "papermill": {
     "duration": 0.074866,
     "end_time": "2021-09-05T05:36:49.405505",
     "exception": false,
     "start_time": "2021-09-05T05:36:49.330639",
     "status": "completed"
    },
    "tags": []
   },
   "outputs": [
    {
     "data": {
      "text/html": [
       "<div>\n",
       "<style scoped>\n",
       "    .dataframe tbody tr th:only-of-type {\n",
       "        vertical-align: middle;\n",
       "    }\n",
       "\n",
       "    .dataframe tbody tr th {\n",
       "        vertical-align: top;\n",
       "    }\n",
       "\n",
       "    .dataframe thead th {\n",
       "        text-align: right;\n",
       "    }\n",
       "</style>\n",
       "<table border=\"1\" class=\"dataframe\">\n",
       "  <thead>\n",
       "    <tr style=\"text-align: right;\">\n",
       "      <th></th>\n",
       "      <th>Label</th>\n",
       "      <th>Text</th>\n",
       "    </tr>\n",
       "  </thead>\n",
       "  <tbody>\n",
       "    <tr>\n",
       "      <th>0</th>\n",
       "      <td>neutral</td>\n",
       "      <td>According to Gran , the company has no plans t...</td>\n",
       "    </tr>\n",
       "    <tr>\n",
       "      <th>1</th>\n",
       "      <td>neutral</td>\n",
       "      <td>Technopolis plans to develop in stages an area...</td>\n",
       "    </tr>\n",
       "    <tr>\n",
       "      <th>2</th>\n",
       "      <td>negative</td>\n",
       "      <td>The international electronic industry company ...</td>\n",
       "    </tr>\n",
       "    <tr>\n",
       "      <th>3</th>\n",
       "      <td>positive</td>\n",
       "      <td>With the new production plant the company woul...</td>\n",
       "    </tr>\n",
       "    <tr>\n",
       "      <th>4</th>\n",
       "      <td>positive</td>\n",
       "      <td>According to the company 's updated strategy f...</td>\n",
       "    </tr>\n",
       "    <tr>\n",
       "      <th>...</th>\n",
       "      <td>...</td>\n",
       "      <td>...</td>\n",
       "    </tr>\n",
       "    <tr>\n",
       "      <th>4841</th>\n",
       "      <td>negative</td>\n",
       "      <td>LONDON MarketWatch -- Share prices ended lower...</td>\n",
       "    </tr>\n",
       "    <tr>\n",
       "      <th>4842</th>\n",
       "      <td>neutral</td>\n",
       "      <td>Rinkuskiai 's beer sales fell by 6.5 per cent ...</td>\n",
       "    </tr>\n",
       "    <tr>\n",
       "      <th>4843</th>\n",
       "      <td>negative</td>\n",
       "      <td>Operating profit fell to EUR 35.4 mn from EUR ...</td>\n",
       "    </tr>\n",
       "    <tr>\n",
       "      <th>4844</th>\n",
       "      <td>negative</td>\n",
       "      <td>Net sales of the Paper segment decreased to EU...</td>\n",
       "    </tr>\n",
       "    <tr>\n",
       "      <th>4845</th>\n",
       "      <td>negative</td>\n",
       "      <td>Sales in Finland decreased by 10.5 % in Januar...</td>\n",
       "    </tr>\n",
       "  </tbody>\n",
       "</table>\n",
       "<p>4846 rows × 2 columns</p>\n",
       "</div>"
      ],
      "text/plain": [
       "         Label                                               Text\n",
       "0      neutral  According to Gran , the company has no plans t...\n",
       "1      neutral  Technopolis plans to develop in stages an area...\n",
       "2     negative  The international electronic industry company ...\n",
       "3     positive  With the new production plant the company woul...\n",
       "4     positive  According to the company 's updated strategy f...\n",
       "...        ...                                                ...\n",
       "4841  negative  LONDON MarketWatch -- Share prices ended lower...\n",
       "4842   neutral  Rinkuskiai 's beer sales fell by 6.5 per cent ...\n",
       "4843  negative  Operating profit fell to EUR 35.4 mn from EUR ...\n",
       "4844  negative  Net sales of the Paper segment decreased to EU...\n",
       "4845  negative  Sales in Finland decreased by 10.5 % in Januar...\n",
       "\n",
       "[4846 rows x 2 columns]"
      ]
     },
     "execution_count": 2,
     "metadata": {},
     "output_type": "execute_result"
    }
   ],
   "source": [
    "data = pd.read_csv(\"../input/sentiment-analysis-for-financial-news/all-data.csv\", names = ['Label', 'Text'], encoding= 'latin-1')\n",
    "data"
   ]
  },
  {
   "cell_type": "code",
   "execution_count": 3,
   "id": "77a4403b",
   "metadata": {
    "execution": {
     "iopub.execute_input": "2021-09-05T05:36:49.431402Z",
     "iopub.status.busy": "2021-09-05T05:36:49.430741Z",
     "iopub.status.idle": "2021-09-05T05:36:49.449506Z",
     "shell.execute_reply": "2021-09-05T05:36:49.448841Z",
     "shell.execute_reply.started": "2021-09-05T05:31:56.279644Z"
    },
    "papermill": {
     "duration": 0.032922,
     "end_time": "2021-09-05T05:36:49.449653",
     "exception": false,
     "start_time": "2021-09-05T05:36:49.416731",
     "status": "completed"
    },
    "tags": []
   },
   "outputs": [
    {
     "name": "stdout",
     "output_type": "stream",
     "text": [
      "<class 'pandas.core.frame.DataFrame'>\n",
      "RangeIndex: 4846 entries, 0 to 4845\n",
      "Data columns (total 2 columns):\n",
      " #   Column  Non-Null Count  Dtype \n",
      "---  ------  --------------  ----- \n",
      " 0   Label   4846 non-null   object\n",
      " 1   Text    4846 non-null   object\n",
      "dtypes: object(2)\n",
      "memory usage: 75.8+ KB\n"
     ]
    }
   ],
   "source": [
    "data.info()"
   ]
  },
  {
   "cell_type": "markdown",
   "id": "44ddcee4",
   "metadata": {
    "papermill": {
     "duration": 0.011293,
     "end_time": "2021-09-05T05:36:49.473084",
     "exception": false,
     "start_time": "2021-09-05T05:36:49.461791",
     "status": "completed"
    },
    "tags": []
   },
   "source": [
    "## preprocessing"
   ]
  },
  {
   "cell_type": "code",
   "execution_count": 4,
   "id": "bcc6ee30",
   "metadata": {
    "execution": {
     "iopub.execute_input": "2021-09-05T05:36:49.503087Z",
     "iopub.status.busy": "2021-09-05T05:36:49.502230Z",
     "iopub.status.idle": "2021-09-05T05:36:49.505395Z",
     "shell.execute_reply": "2021-09-05T05:36:49.504908Z",
     "shell.execute_reply.started": "2021-09-05T05:31:56.294360Z"
    },
    "papermill": {
     "duration": 0.020889,
     "end_time": "2021-09-05T05:36:49.505554",
     "exception": false,
     "start_time": "2021-09-05T05:36:49.484665",
     "status": "completed"
    },
    "tags": []
   },
   "outputs": [],
   "source": [
    "def get_seq(texts):\n",
    "    tk = Tokenizer() # can cap w num words\n",
    "    tk.fit_on_texts(texts) \n",
    "    seq = tk.texts_to_sequences(texts) # list of lists, num of word in sentence\n",
    "    # seq numeric rep\n",
    "    # dense how d, to send word to location in vector space vs sparse or 1 hot    \n",
    "    # will use keras embeding layer\n",
    "    print('vocab len:', len(tk.word_index)+1)\n",
    "    maxLen = np.max(list(map(lambda x: len(x),seq)))\n",
    "    print('max len: ', maxLen)\n",
    "\n",
    "    seq = pad_sequences(seq, maxlen= maxLen, padding= 'post' ) # pad str, post= 0 at end for padding\n",
    "    \n",
    "    return seq "
   ]
  },
  {
   "cell_type": "code",
   "execution_count": 5,
   "id": "ab3e7454",
   "metadata": {
    "execution": {
     "iopub.execute_input": "2021-09-05T05:36:49.548462Z",
     "iopub.status.busy": "2021-09-05T05:36:49.543173Z",
     "iopub.status.idle": "2021-09-05T05:36:49.768674Z",
     "shell.execute_reply": "2021-09-05T05:36:49.769089Z",
     "shell.execute_reply.started": "2021-09-05T05:31:56.305548Z"
    },
    "papermill": {
     "duration": 0.251886,
     "end_time": "2021-09-05T05:36:49.769306",
     "exception": false,
     "start_time": "2021-09-05T05:36:49.517420",
     "status": "completed"
    },
    "tags": []
   },
   "outputs": [
    {
     "name": "stdout",
     "output_type": "stream",
     "text": [
      "vocab len: 10123\n",
      "max len:  71\n"
     ]
    },
    {
     "data": {
      "text/plain": [
       "array([[  94,    5, 3498, ...,    0,    0,    0],\n",
       "       [ 840,  336,    5, ...,    0,    0,    0],\n",
       "       [   1,  293,  656, ...,    0,    0,    0],\n",
       "       ...,\n",
       "       [  42,   31,  242, ...,    0,    0,    0],\n",
       "       [  30,   27,    2, ...,    0,    0,    0],\n",
       "       [  27,    3,   35, ...,    0,    0,    0]], dtype=int32)"
      ]
     },
     "execution_count": 5,
     "metadata": {},
     "output_type": "execute_result"
    }
   ],
   "source": [
    "get_seq(data['Text']) # all have same length, embeded in embeding layer\n",
    "#get_seq(data['Text']).shape"
   ]
  },
  {
   "cell_type": "code",
   "execution_count": 6,
   "id": "a7c67af8",
   "metadata": {
    "execution": {
     "iopub.execute_input": "2021-09-05T05:36:49.800149Z",
     "iopub.status.busy": "2021-09-05T05:36:49.799161Z",
     "iopub.status.idle": "2021-09-05T05:36:49.802177Z",
     "shell.execute_reply": "2021-09-05T05:36:49.801727Z",
     "shell.execute_reply.started": "2021-09-05T05:31:56.613747Z"
    },
    "papermill": {
     "duration": 0.02088,
     "end_time": "2021-09-05T05:36:49.802344",
     "exception": false,
     "start_time": "2021-09-05T05:36:49.781464",
     "status": "completed"
    },
    "tags": []
   },
   "outputs": [],
   "source": [
    "def preproc_inputs(df): #dense encoding, lower mem for encoding, word embedding\n",
    "    df = df.copy()\n",
    "    \n",
    "    seq =  get_seq(df['Text'])\n",
    "    \n",
    "    lbl_mapping = { 'negative':0, 'neutral':1, 'positive':2}\n",
    "    \n",
    "    y = df['Label'].replace(lbl_mapping)\n",
    "    train_seq,test_sequences,y_train,y_test = train_test_split(seq,y,train_size = 0.7,shuffle = True,  random_state = 1)\n",
    "    \n",
    "    return train_seq,test_sequences,y_train,y_test"
   ]
  },
  {
   "cell_type": "code",
   "execution_count": 7,
   "id": "f8527ab0",
   "metadata": {
    "execution": {
     "iopub.execute_input": "2021-09-05T05:36:49.846031Z",
     "iopub.status.busy": "2021-09-05T05:36:49.840902Z",
     "iopub.status.idle": "2021-09-05T05:36:50.064947Z",
     "shell.execute_reply": "2021-09-05T05:36:50.065402Z",
     "shell.execute_reply.started": "2021-09-05T05:31:56.621408Z"
    },
    "papermill": {
     "duration": 0.251234,
     "end_time": "2021-09-05T05:36:50.065574",
     "exception": false,
     "start_time": "2021-09-05T05:36:49.814340",
     "status": "completed"
    },
    "tags": []
   },
   "outputs": [
    {
     "name": "stdout",
     "output_type": "stream",
     "text": [
      "vocab len: 10123\n",
      "max len:  71\n"
     ]
    },
    {
     "data": {
      "text/plain": [
       "array([[5442,  510,   16, ...,    0,    0,    0],\n",
       "       [  22, 1628,    4, ...,    0,    0,    0],\n",
       "       [1141,  936,  136, ...,    0,    0,    0],\n",
       "       ...,\n",
       "       [   1,  419,   16, ...,    0,    0,    0],\n",
       "       [2586,  123, 3247, ...,    0,    0,    0],\n",
       "       [  30,  615,  555, ...,    0,    0,    0]], dtype=int32)"
      ]
     },
     "execution_count": 7,
     "metadata": {},
     "output_type": "execute_result"
    }
   ],
   "source": [
    "train_seq,test_seq ,y_train,y_test = preproc_inputs(data)\n",
    "train_seq"
   ]
  },
  {
   "cell_type": "code",
   "execution_count": 8,
   "id": "8b7a6ba8",
   "metadata": {
    "execution": {
     "iopub.execute_input": "2021-09-05T05:36:50.096951Z",
     "iopub.status.busy": "2021-09-05T05:36:50.096314Z",
     "iopub.status.idle": "2021-09-05T05:36:50.102472Z",
     "shell.execute_reply": "2021-09-05T05:36:50.101962Z",
     "shell.execute_reply.started": "2021-09-05T05:31:56.935447Z"
    },
    "papermill": {
     "duration": 0.024737,
     "end_time": "2021-09-05T05:36:50.102633",
     "exception": false,
     "start_time": "2021-09-05T05:36:50.077896",
     "status": "completed"
    },
    "tags": []
   },
   "outputs": [
    {
     "data": {
      "text/plain": [
       "545     2\n",
       "2374    0\n",
       "4217    1\n",
       "1071    1\n",
       "716     2\n",
       "       ..\n",
       "2895    1\n",
       "2763    1\n",
       "905     2\n",
       "3980    1\n",
       "235     2\n",
       "Name: Label, Length: 3392, dtype: int64"
      ]
     },
     "execution_count": 8,
     "metadata": {},
     "output_type": "execute_result"
    }
   ],
   "source": [
    "y_train"
   ]
  },
  {
   "cell_type": "markdown",
   "id": "d9494da8",
   "metadata": {
    "papermill": {
     "duration": 0.012402,
     "end_time": "2021-09-05T05:36:50.128047",
     "exception": false,
     "start_time": "2021-09-05T05:36:50.115645",
     "status": "completed"
    },
    "tags": []
   },
   "source": [
    "Training"
   ]
  },
  {
   "cell_type": "code",
   "execution_count": 9,
   "id": "21315ad0",
   "metadata": {
    "execution": {
     "iopub.execute_input": "2021-09-05T05:36:50.160198Z",
     "iopub.status.busy": "2021-09-05T05:36:50.159475Z",
     "iopub.status.idle": "2021-09-05T05:36:50.711862Z",
     "shell.execute_reply": "2021-09-05T05:36:50.711094Z",
     "shell.execute_reply.started": "2021-09-05T05:31:56.944754Z"
    },
    "papermill": {
     "duration": 0.571409,
     "end_time": "2021-09-05T05:36:50.712014",
     "exception": false,
     "start_time": "2021-09-05T05:36:50.140605",
     "status": "completed"
    },
    "tags": []
   },
   "outputs": [],
   "source": [
    "inputs =  tf.keras.Input(shape = (train_seq.shape[1]))\n",
    "#input_dim:input space for sparse encoding: for sparse woudl need 10123, \n",
    "#output_dim: choice larger gives u more complex relation\n",
    "#, inp_len: max len of a seq\n",
    "x =  tf.keras.layers.Embedding(\n",
    "    input_dim=10123,\n",
    "    output_dim=128,\n",
    "    input_length = train_seq.shape[1])(inputs)\n",
    "\n",
    "# recurrent nn for long term dep, 1 layer would only understand indep, not past\n",
    "# simple h is feed back, to be used with x, gru simplified lstm\n",
    "# return at each time step array \n",
    "x = tf.keras.layers.GRU(256,return_sequences=True,  activation = 'tanh')(x) # at end outputs sentiment\n",
    "x = tf.keras.layers.Flatten()(x) # return turns it to 2d\n",
    "outputs = tf.keras.layers.Dense(3,activation ='softmax')(x) # prob of output\n"
   ]
  },
  {
   "cell_type": "code",
   "execution_count": 10,
   "id": "1aad20e3",
   "metadata": {
    "execution": {
     "iopub.execute_input": "2021-09-05T05:36:50.744823Z",
     "iopub.status.busy": "2021-09-05T05:36:50.743847Z",
     "iopub.status.idle": "2021-09-05T05:36:50.759847Z",
     "shell.execute_reply": "2021-09-05T05:36:50.759131Z",
     "shell.execute_reply.started": "2021-09-05T05:31:57.196835Z"
    },
    "papermill": {
     "duration": 0.035188,
     "end_time": "2021-09-05T05:36:50.759999",
     "exception": false,
     "start_time": "2021-09-05T05:36:50.724811",
     "status": "completed"
    },
    "tags": []
   },
   "outputs": [],
   "source": [
    "model  = tf.keras.Model(inputs=inputs, outputs=outputs)\n",
    "\n",
    "model.compile(\n",
    "    optimizer ='adam',\n",
    "    loss = 'sparse_categorical_crossentropy',\n",
    "    metrics = ['accuracy']\n",
    ")\n"
   ]
  },
  {
   "cell_type": "code",
   "execution_count": 11,
   "id": "0c9afb3b",
   "metadata": {
    "execution": {
     "iopub.execute_input": "2021-09-05T05:36:50.791723Z",
     "iopub.status.busy": "2021-09-05T05:36:50.791071Z",
     "iopub.status.idle": "2021-09-05T05:37:48.231185Z",
     "shell.execute_reply": "2021-09-05T05:37:48.230571Z",
     "shell.execute_reply.started": "2021-09-05T05:31:57.214556Z"
    },
    "papermill": {
     "duration": 57.458705,
     "end_time": "2021-09-05T05:37:48.231372",
     "exception": false,
     "start_time": "2021-09-05T05:36:50.772667",
     "status": "completed"
    },
    "tags": []
   },
   "outputs": [
    {
     "name": "stdout",
     "output_type": "stream",
     "text": [
      "Epoch 1/100\n",
      "85/85 [==============================] - 14s 137ms/step - loss: 0.8920 - accuracy: 0.6169 - val_loss: 0.7851 - val_accuracy: 0.6406\n",
      "Epoch 2/100\n",
      "85/85 [==============================] - 11s 128ms/step - loss: 0.5098 - accuracy: 0.7862 - val_loss: 0.7506 - val_accuracy: 0.6951\n",
      "Epoch 3/100\n",
      "85/85 [==============================] - 11s 131ms/step - loss: 0.1494 - accuracy: 0.9509 - val_loss: 0.9248 - val_accuracy: 0.7010\n",
      "Epoch 4/100\n",
      "85/85 [==============================] - 11s 128ms/step - loss: 0.0442 - accuracy: 0.9891 - val_loss: 1.1015 - val_accuracy: 0.6951\n",
      "Epoch 5/100\n",
      "85/85 [==============================] - 11s 127ms/step - loss: 0.0343 - accuracy: 0.9905 - val_loss: 1.1681 - val_accuracy: 0.7040\n"
     ]
    }
   ],
   "source": [
    "history = model.fit(\n",
    "    train_seq,\n",
    "    y_train,\n",
    "    validation_split = 0.2,\n",
    "    batch_size = 32,\n",
    "    epochs =100,\n",
    "    callbacks = [\n",
    "        tf.keras.callbacks.EarlyStopping(\n",
    "            monitor =  'val_loss',\n",
    "            patience = 3,\n",
    "            restore_best_weights = True\n",
    "        )\n",
    "    ]\n",
    "    )\n"
   ]
  },
  {
   "cell_type": "markdown",
   "id": "6171e1d2",
   "metadata": {
    "papermill": {
     "duration": 0.120233,
     "end_time": "2021-09-05T05:37:48.461549",
     "exception": false,
     "start_time": "2021-09-05T05:37:48.341316",
     "status": "completed"
    },
    "tags": []
   },
   "source": [
    "## Results"
   ]
  },
  {
   "cell_type": "code",
   "execution_count": 12,
   "id": "80b3a53b",
   "metadata": {
    "execution": {
     "iopub.execute_input": "2021-09-05T05:37:48.726976Z",
     "iopub.status.busy": "2021-09-05T05:37:48.726065Z",
     "iopub.status.idle": "2021-09-05T05:37:50.470273Z",
     "shell.execute_reply": "2021-09-05T05:37:50.469683Z",
     "shell.execute_reply.started": "2021-09-05T05:35:13.292817Z"
    },
    "papermill": {
     "duration": 1.887292,
     "end_time": "2021-09-05T05:37:50.470424",
     "exception": false,
     "start_time": "2021-09-05T05:37:48.583132",
     "status": "completed"
    },
    "tags": []
   },
   "outputs": [
    {
     "name": "stdout",
     "output_type": "stream",
     "text": [
      "46/46 [==============================] - 2s 37ms/step - loss: 0.6841 - accuracy: 0.7325\n"
     ]
    },
    {
     "data": {
      "text/plain": [
       "[0.6841079592704773, 0.7324621677398682]"
      ]
     },
     "execution_count": 12,
     "metadata": {},
     "output_type": "execute_result"
    }
   ],
   "source": [
    "model.evaluate(test_seq,y_test)"
   ]
  },
  {
   "cell_type": "code",
   "execution_count": 13,
   "id": "95fe0a11",
   "metadata": {
    "execution": {
     "iopub.execute_input": "2021-09-05T05:37:50.708078Z",
     "iopub.status.busy": "2021-09-05T05:37:50.707491Z",
     "iopub.status.idle": "2021-09-05T05:37:50.711433Z",
     "shell.execute_reply": "2021-09-05T05:37:50.710934Z",
     "shell.execute_reply.started": "2021-09-05T05:35:16.381750Z"
    },
    "papermill": {
     "duration": 0.125796,
     "end_time": "2021-09-05T05:37:50.711578",
     "exception": false,
     "start_time": "2021-09-05T05:37:50.585782",
     "status": "completed"
    },
    "tags": []
   },
   "outputs": [
    {
     "data": {
      "text/plain": [
       "1    850\n",
       "2    420\n",
       "0    184\n",
       "Name: Label, dtype: int64"
      ]
     },
     "execution_count": 13,
     "metadata": {},
     "output_type": "execute_result"
    }
   ],
   "source": [
    "y_test.value_counts()"
   ]
  },
  {
   "cell_type": "code",
   "execution_count": null,
   "id": "0b82b9f9",
   "metadata": {
    "papermill": {
     "duration": 0.140667,
     "end_time": "2021-09-05T05:37:50.983001",
     "exception": false,
     "start_time": "2021-09-05T05:37:50.842334",
     "status": "completed"
    },
    "tags": []
   },
   "outputs": [],
   "source": []
  }
 ],
 "metadata": {
  "kernelspec": {
   "display_name": "Python 3",
   "language": "python",
   "name": "python3"
  },
  "language_info": {
   "codemirror_mode": {
    "name": "ipython",
    "version": 3
   },
   "file_extension": ".py",
   "mimetype": "text/x-python",
   "name": "python",
   "nbconvert_exporter": "python",
   "pygments_lexer": "ipython3",
   "version": "3.7.10"
  },
  "papermill": {
   "default_parameters": {},
   "duration": 76.846833,
   "end_time": "2021-09-05T05:37:52.559592",
   "environment_variables": {},
   "exception": null,
   "input_path": "__notebook__.ipynb",
   "output_path": "__notebook__.ipynb",
   "parameters": {},
   "start_time": "2021-09-05T05:36:35.712759",
   "version": "2.3.3"
  }
 },
 "nbformat": 4,
 "nbformat_minor": 5
}
